{
 "metadata": {
  "language_info": {
   "codemirror_mode": {
    "name": "ipython",
    "version": 3
   },
   "file_extension": ".py",
   "mimetype": "text/x-python",
   "name": "python",
   "nbconvert_exporter": "python",
   "pygments_lexer": "ipython3",
   "version": "3.8.5-final"
  },
  "orig_nbformat": 2,
  "kernelspec": {
   "name": "python3",
   "display_name": "Python 3",
   "language": "python"
  }
 },
 "nbformat": 4,
 "nbformat_minor": 2,
 "cells": [
  {
   "cell_type": "code",
   "execution_count": 1,
   "metadata": {},
   "outputs": [],
   "source": [
    "name = \"Magnetics-Curve-Fit-Equation-Tool-2020.xlsx\"\n",
    "init = pd.read_excel(name, skiprows = 7, skipfooter=4).dropna(axis=1, how=\"all\")\n",
    "data = dict()\n",
    "data[\"perm_dc\"] = init[init.columns[0:7]]\n",
    "data[\"core_loss\"] = init[init.columns[7:13]]\n",
    "data[\"normal_magn\"] = init[init.columns[13:22]]\n",
    "data[\"perm_freq\"] = init[init.columns[22:31]]\n",
    "data[\"perm_temp\"] = init[init.columns[31:40]]"
   ]
  },
  {
   "cell_type": "code",
   "execution_count": 45,
   "metadata": {},
   "outputs": [
    {
     "output_type": "stream",
     "name": "stdout",
     "text": [
      "index not found\nindex not found\nindex not found\nindex not found\nindex not found\n"
     ]
    }
   ],
   "source": [
    "for k, v in data.items():\n",
    "    cols = v.columns\n",
    "    new_cols = [x.split(\".\")[0].rstrip(\":\").lower() for x in cols]\n",
    "    new_cols[1] = \"perm\"\n",
    "    v.columns = new_cols\n",
    "    v = v.fillna(method=\"ffill\")\n",
    "    try:\n",
    "        index = v[v.perm == \"58339, 58167, 58620, 58070, 58740, 58866, 58906, 58778, 58098, 58340:\"].index[0]\n",
    "        print(\"index {}\".format(index))\n",
    "    except IndexError:\n",
    "        index = None\n",
    "        print(\"index not found\")\n",
    "    if index:\n",
    "        v.at[(index+1), \"material\"] = \"High Flux Special\"\n",
    "        v.at[(index+2), \"material\"] = \"High Flux Special\"\n",
    "        v.drop(axis = 0, labels = index, inplace = True)\n",
    "    data[k] = v\n",
    "    v.to_csv(f\"{k}.csv\")"
   ]
  },
  {
   "cell_type": "code",
   "execution_count": null,
   "metadata": {},
   "outputs": [],
   "source": [
    "name = \"perm_dc\"\n",
    "data = pd.read_csv(f\"{name}.csv\")\n",
    "%run ../../magnetics/magnetics_functions.py"
   ]
  },
  {
   "cell_type": "code",
   "execution_count": 47,
   "metadata": {},
   "outputs": [
    {
     "output_type": "stream",
     "name": "stdout",
     "text": [
      "test\n"
     ]
    }
   ],
   "source": []
  }
 ]
}