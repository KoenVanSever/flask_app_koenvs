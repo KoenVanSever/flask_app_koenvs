{
 "metadata": {
  "language_info": {
   "codemirror_mode": {
    "name": "ipython",
    "version": 3
   },
   "file_extension": ".py",
   "mimetype": "text/x-python",
   "name": "python",
   "nbconvert_exporter": "python",
   "pygments_lexer": "ipython3",
   "version": "3.8.5-final"
  },
  "orig_nbformat": 2,
  "kernelspec": {
   "name": "python3",
   "display_name": "Python 3",
   "language": "python"
  }
 },
 "nbformat": 4,
 "nbformat_minor": 2,
 "cells": [
  {
   "cell_type": "code",
   "execution_count": null,
   "metadata": {},
   "outputs": [],
   "source": [
    "name = \"Magnetics-Curve-Fit-Equation-Tool-2020.xlsx\"\n",
    "init = pd.read_excel(name, skiprows = 7, skipfooter=4).dropna(axis=1, how=\"all\")\n",
    "data = dict()\n",
    "data[\"perm_dc\"] = init[init.columns[0:7]]\n",
    "data[\"core_loss\"] = init[init.columns[7:13]]\n",
    "data[\"normal_magn\"] = init[init.columns[13:22]]\n",
    "data[\"perm_freq\"] = init[init.columns[22:31]]\n",
    "data[\"perm_temp\"] = init[init.columns[31:40]]"
   ]
  },
  {
   "cell_type": "code",
   "execution_count": null,
   "metadata": {},
   "outputs": [],
   "source": [
    "for k, v in data.items():\n",
    "    cols = v.columns\n",
    "    new_cols = [x.split(\".\")[0].rstrip(\":\").lower() for x in cols]\n",
    "    new_cols[1] = \"perm\"\n",
    "    v.columns = new_cols\n",
    "    v = v.fillna(method=\"ffill\")\n",
    "    try:\n",
    "        index = v[v.perm == \"58339, 58167, 58620, 58070, 58740, 58866, 58906, 58778, 58098, 58340:\"].index[0]\n",
    "        print(\"index {}\".format(index))\n",
    "    except IndexError:\n",
    "        index = None\n",
    "        print(\"index not found\")\n",
    "    if index:\n",
    "        v.at[(index+1), \"material\"] = \"High Flux Special\"\n",
    "        v.at[(index+2), \"material\"] = \"High Flux Special\"\n",
    "        v.drop(axis = 0, labels = index, inplace = True)\n",
    "    data[k] = v\n",
    "    v.to_csv(f\"{k}.csv\")"
   ]
  },
  {
   "cell_type": "code",
   "execution_count": null,
   "metadata": {},
   "outputs": [],
   "source": [
    "PERM_DC = pd.read_csv(\"perm_dc.csv\")\n",
    "\n",
    "def calculate_perm_dc(material, init_perm, drive_level):\n",
    "    config = PERM_DC[PERM_DC.material == material][PERM_DC.perm == init_perm]\n",
    "    a = float(config.a)\n",
    "    b = float(config.b)\n",
    "    c = float(config.c)\n",
    "    if hasattr(drive_level, \"__iter__\"):\n",
    "        last = 1 / (a + b * pow(drive_level[len(drive_level) - 1], c))\n",
    "        if last <= 30:\n",
    "            raise AttributeError(\"calculated value is out of range\")\n",
    "        # print(\"iterable\")\n",
    "        return [1 / (a + b * pow(x, c)) for x in drive_level]\n",
    "    else:\n",
    "        # print(\"not interable\")\n",
    "        calc= 1 / (a + b * pow(drive_level, c))\n",
    "        if calc <= 30:\n",
    "            raise AttributeError(\"calculated value is out of range\")\n",
    "        return 1 / (a + b * pow(drive_level, c))\n",
    "calculate_perm_dc(\"MPP\", 60, range(0, 100))"
   ]
  }
 ]
}